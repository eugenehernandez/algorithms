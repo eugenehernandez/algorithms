{
 "cells": [
  {
   "cell_type": "markdown",
   "id": "543ec52c-5d7e-45bc-9823-6a7660c05b88",
   "metadata": {},
   "source": [
    "# Greedy algorithm\n",
    "Greedy algorithm solve optimization problems by making the best local choice at each step in the hope of finding the global optimum. It’s like taking the best option available at each moment, hoping it will lead to the best overall outcome.\n",
    "\n",
    "- [x] Greedy algorithms are simple and easy to implement.\n",
    "- [x] They are efficient in terms of time complexity, often providing quick solutions. Greedy Aagorithms are typically preferred over Dynamic Programming for the problems where both are applied.\n"
   ]
  },
  {
   "cell_type": "code",
   "execution_count": 1,
   "id": "8825f716-5286-43cc-b625-4f4eec9bddc2",
   "metadata": {},
   "outputs": [
    {
     "name": "stdout",
     "output_type": "stream",
     "text": [
      "Minimum coins required: 6\n",
      "Coins used: [10, 10, 10, 5, 2, 2]\n"
     ]
    }
   ],
   "source": [
    "# Python Program to find the minimum number of coins\n",
    "# to construct a given amount using greedy approach\n",
    "\n",
    "def minCoins(coins, amount):\n",
    "    n = len(coins)\n",
    "    coins.sort(reverse=True)  # Sort in descending order\n",
    "    res = 0\n",
    "    used_coins = []  # To store the coins selected\n",
    "\n",
    "    # Start from the coin with highest denomination\n",
    "    for i in range(n):\n",
    "        if amount >= coins[i]:\n",
    "            # Find the maximum number of ith coin we can use\n",
    "            cnt = amount // coins[i]\n",
    "\n",
    "            # Add the count to result\n",
    "            res += cnt\n",
    "\n",
    "            # Add the selected coins to the list\n",
    "            used_coins.extend([coins[i]] * cnt)\n",
    "\n",
    "            # Subtract the corresponding amount from the total amount\n",
    "            amount -= cnt * coins[i]\n",
    "\n",
    "        # Break if there is no amount left\n",
    "        if amount == 0:\n",
    "            break\n",
    "    \n",
    "    return res, used_coins  # Return both the result and the coins used\n",
    "\n",
    "if __name__ == \"__main__\":\n",
    "    coins = [5, 2, 10, 1]\n",
    "    amount = 39\n",
    "\n",
    "    result, used_coins = minCoins(coins, amount)\n",
    "    print(f\"Minimum coins required: {result}\")\n",
    "    print(f\"Coins used: {used_coins}\")\n"
   ]
  },
  {
   "cell_type": "code",
   "execution_count": null,
   "id": "69631dd8-b728-4bf3-a845-d2b3b00a88ec",
   "metadata": {},
   "outputs": [],
   "source": []
  }
 ],
 "metadata": {
  "kernelspec": {
   "display_name": "Python 3 (ipykernel)",
   "language": "python",
   "name": "python3"
  },
  "language_info": {
   "codemirror_mode": {
    "name": "ipython",
    "version": 3
   },
   "file_extension": ".py",
   "mimetype": "text/x-python",
   "name": "python",
   "nbconvert_exporter": "python",
   "pygments_lexer": "ipython3",
   "version": "3.12.0"
  }
 },
 "nbformat": 4,
 "nbformat_minor": 5
}
