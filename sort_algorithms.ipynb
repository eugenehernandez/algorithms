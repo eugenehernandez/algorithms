{
 "cells": [
  {
   "cell_type": "markdown",
   "id": "443b40a5-4570-4d95-aae3-d39a7f106e12",
   "metadata": {},
   "source": [
    "# Selection sort algorithm\n",
    "- [x] Requires a constant. --Time complexity one loop: O(n). More loops: O(n) * O(n) = O(n*n) = O(n$^2$).\n",
    "- [x] Suitable for small lists."
   ]
  },
  {
   "cell_type": "code",
   "execution_count": 1,
   "id": "1ea509c7-05d0-41e6-bf41-20e6620005a6",
   "metadata": {},
   "outputs": [
    {
     "name": "stdout",
     "output_type": "stream",
     "text": [
      "Original array: 64 25 12 22 11 \n",
      "Sorted array: 11 12 22 25 64 \n"
     ]
    }
   ],
   "source": [
    "def selection_sort(arr):\n",
    "    n = len(arr)\n",
    "    for i in range(n - 1):\n",
    "      \n",
    "        # Assume the current position holds\n",
    "        # the minimum element\n",
    "        min_idx = i\n",
    "        \n",
    "        # Iterate through the unsorted portion\n",
    "        # to find the actual minimum\n",
    "        for j in range(i + 1, n):\n",
    "            if arr[j] < arr[min_idx]:\n",
    "              \n",
    "                # Update min_idx if a smaller element is found\n",
    "                min_idx = j\n",
    "        \n",
    "        # Move minimum element to its\n",
    "        # correct position\n",
    "        arr[i], arr[min_idx] = arr[min_idx], arr[i]\n",
    "\n",
    "def print_array(arr):\n",
    "    for val in arr:\n",
    "        print(val, end=\" \")\n",
    "    print()\n",
    "\n",
    "if __name__ == \"__main__\":\n",
    "    arr = [64, 25, 12, 22, 11]\n",
    "    \n",
    "    print(\"Original array: \", end=\"\")\n",
    "    print_array(arr)\n",
    "    \n",
    "    selection_sort(arr)\n",
    "    \n",
    "    print(\"Sorted array: \", end=\"\")\n",
    "    print_array(arr)\n"
   ]
  },
  {
   "cell_type": "markdown",
   "id": "6376a7d5-13ef-47d6-88ae-243a50571585",
   "metadata": {},
   "source": [
    "# Bubble sort algorithm\n",
    "- [x] Easy to implement. --Time complexity: O(n$^2$).\n",
    "- [x] Elements with the same key value maintain their relative order in the sorted output."
   ]
  },
  {
   "cell_type": "code",
   "execution_count": 4,
   "id": "2bbf6fd8-27f4-44cd-8a7f-9c5892e3ab17",
   "metadata": {},
   "outputs": [
    {
     "name": "stdout",
     "output_type": "stream",
     "text": [
      "Sorted array:\n",
      "11 12 22 25 34 64 90 "
     ]
    }
   ],
   "source": [
    "def bubbleSort(arr):\n",
    "    n = len(arr)\n",
    "    \n",
    "    # Traverse through all array elements\n",
    "    for i in range(n):\n",
    "        swapped = False\n",
    "\n",
    "        # Last i elements are already in place\n",
    "        for j in range(0, n-i-1):\n",
    "\n",
    "            # Traverse the array from 0 to n-i-1\n",
    "            # Swap if the element found is greater\n",
    "            # than the next element\n",
    "            if arr[j] > arr[j+1]:\n",
    "                arr[j], arr[j+1] = arr[j+1], arr[j]\n",
    "                swapped = True\n",
    "        if (swapped == False):\n",
    "            break\n",
    "\n",
    "# Driver code to test above\n",
    "if __name__ == \"__main__\":\n",
    "    arr = [64, 34, 25, 12, 22, 11, 90]\n",
    "\n",
    "    bubbleSort(arr)\n",
    "\n",
    "    print(\"Sorted array:\")\n",
    "    for i in range(len(arr)):\n",
    "        print(\"%d\" % arr[i], end=\" \")\n"
   ]
  },
  {
   "cell_type": "markdown",
   "id": "9284c4ae-4841-48f2-b24f-e5b6c04e61d5",
   "metadata": {},
   "source": [
    "# Insertion sort algorithm\n",
    "- [x] Easy to implement. --Time complexity best case: O(n). Average or worst case: O(n$^2$).\n",
    "- [x] Suitable for small lists."
   ]
  },
  {
   "cell_type": "code",
   "execution_count": 5,
   "id": "8b527bb7-e24a-4231-b67e-579148a6ef1f",
   "metadata": {},
   "outputs": [
    {
     "name": "stdout",
     "output_type": "stream",
     "text": [
      "5 6 11 12 13 \n"
     ]
    }
   ],
   "source": [
    "# Function to sort array using insertion sort\n",
    "def insertionSort(arr):\n",
    "    for i in range(1, len(arr)):\n",
    "        key = arr[i]\n",
    "        j = i - 1\n",
    "\n",
    "        # Move elements of arr[0..i-1], that are\n",
    "        # greater than key, to one position ahead\n",
    "        # of their current position\n",
    "        while j >= 0 and key < arr[j]:\n",
    "            arr[j + 1] = arr[j]\n",
    "            j -= 1\n",
    "        arr[j + 1] = key\n",
    "\n",
    "# A utility function to print array of size n\n",
    "def printArray(arr):\n",
    "    for i in range(len(arr)):\n",
    "        print(arr[i], end=\" \")\n",
    "    print()\n",
    "\n",
    "# Driver method\n",
    "if __name__ == \"__main__\":\n",
    "    arr = [12, 11, 13, 5, 6]\n",
    "    insertionSort(arr)\n",
    "    printArray(arr)\n",
    "\n",
    "    # This code is contributed by Hritik Shah.\n"
   ]
  },
  {
   "cell_type": "markdown",
   "id": "56ab3725-8a8f-427f-b9b1-07628e8b2062",
   "metadata": {},
   "source": [
    "# Merge sort algorithm\n",
    "- [x] Sort large datasets. --Time complexity: O(n log n).\n",
    "- [x] Easy to implement.\n",
    "### Recurrence relation of merge sort:\n",
    "$$\n",
    "T(n) =\n",
    "\\begin{cases}\n",
    "\\Theta(1), & \\text{if } n = 1 \\\\\n",
    "2T\\left(\\frac{n}{2}\\right) + \\Theta(n), & \\text{if } n > 1\n",
    "\\end{cases}\n",
    "$$\n",
    "- T(n) Represents the total time time taken by the algorithm to sort an array of size n.\n",
    "- $2T(\\frac{n}{2}$) represents time taken by the algorithm to recursively sort the two halves of the array. Since each half has $\\frac{n}{2}$ elements, we have two recursive calls with input size as ($\\frac{n}{2}$).\n",
    "- O(n) represents the time taken to merge the two sorted halves"
   ]
  },
  {
   "cell_type": "code",
   "execution_count": 8,
   "id": "4344e998-5237-47ca-9a6d-702a5879105f",
   "metadata": {},
   "outputs": [
    {
     "name": "stdout",
     "output_type": "stream",
     "text": [
      "Given array is\n",
      "12 11 13 5 6 7 \n",
      "\n",
      "Sorted array is\n",
      "5 6 7 11 12 13 \n"
     ]
    }
   ],
   "source": [
    "def merge(arr, left, mid, right):\n",
    "    n1 = mid - left + 1\n",
    "    n2 = right - mid\n",
    "\n",
    "    # Create temp arrays\n",
    "    L = [0] * n1\n",
    "    R = [0] * n2\n",
    "\n",
    "    # Copy data to temp arrays L[] and R[]\n",
    "    for i in range(n1):\n",
    "        L[i] = arr[left + i]\n",
    "    for j in range(n2):\n",
    "        R[j] = arr[mid + 1 + j]\n",
    "\n",
    "    i = 0  # Initial index of first subarray\n",
    "    j = 0  # Initial index of second subarray\n",
    "    k = left  # Initial index of merged subarray\n",
    "\n",
    "    # Merge the temp arrays back\n",
    "    # into arr[left..right]\n",
    "    while i < n1 and j < n2:\n",
    "        if L[i] <= R[j]:\n",
    "            arr[k] = L[i]\n",
    "            i += 1\n",
    "        else:\n",
    "            arr[k] = R[j]\n",
    "            j += 1\n",
    "        k += 1\n",
    "\n",
    "    # Copy the remaining elements of L[],\n",
    "    # if there are any\n",
    "    while i < n1:\n",
    "        arr[k] = L[i]\n",
    "        i += 1\n",
    "        k += 1\n",
    "\n",
    "    # Copy the remaining elements of R[], \n",
    "    # if there are any\n",
    "    while j < n2:\n",
    "        arr[k] = R[j]\n",
    "        j += 1\n",
    "        k += 1\n",
    "\n",
    "def merge_sort(arr, left, right):\n",
    "    if left < right:\n",
    "        mid = (left + right) // 2\n",
    "\n",
    "        merge_sort(arr, left, mid)\n",
    "        merge_sort(arr, mid + 1, right)\n",
    "        merge(arr, left, mid, right)\n",
    "\n",
    "def print_list(arr):\n",
    "    for i in arr:\n",
    "        print(i, end=\" \")\n",
    "    print()\n",
    "\n",
    "# Driver code\n",
    "if __name__ == \"__main__\":\n",
    "    arr = [12, 11, 13, 5, 6, 7]\n",
    "    print(\"Given array is\")\n",
    "    print_list(arr)\n",
    "\n",
    "    merge_sort(arr, 0, len(arr) - 1)\n",
    "\n",
    "    print(\"\\nSorted array is\")\n",
    "    print_list(arr)\n"
   ]
  },
  {
   "cell_type": "markdown",
   "id": "c8e75c70-67c9-4a22-8edc-d2d5ca16997e",
   "metadata": {},
   "source": [
    "# Quick sort algorithm\n",
    "- [x] Efficient on large datasets. --Time complexity best case: ($\\Omega$O(n log n)). Worst case: O(n$^2$).\n",
    "- [x] Used in partitioning problems like finding the kth smallest element or dividing arrays by pivot.\n",
    "- [x] Fastest general purpose algorithm for large data."
   ]
  },
  {
   "cell_type": "code",
   "execution_count": 9,
   "id": "79a2e5e2-da44-43af-aefd-0b9d4968126b",
   "metadata": {},
   "outputs": [
    {
     "name": "stdout",
     "output_type": "stream",
     "text": [
      "1 5 7 8 9 10 "
     ]
    }
   ],
   "source": [
    "# Partition function\n",
    "def partition(arr, low, high):\n",
    "    \n",
    "    # Choose the pivot\n",
    "    pivot = arr[high]\n",
    "    \n",
    "    # Index of smaller element and indicates \n",
    "    # the right position of pivot found so far\n",
    "    i = low - 1\n",
    "    \n",
    "    # Traverse arr[low..high] and move all smaller\n",
    "    # elements to the left side. Elements from low to \n",
    "    # i are smaller after every iteration\n",
    "    for j in range(low, high):\n",
    "        if arr[j] < pivot:\n",
    "            i += 1\n",
    "            swap(arr, i, j)\n",
    "    \n",
    "    # Move pivot after smaller elements and\n",
    "    # return its position\n",
    "    swap(arr, i + 1, high)\n",
    "    return i + 1\n",
    "\n",
    "# Swap function\n",
    "def swap(arr, i, j):\n",
    "    arr[i], arr[j] = arr[j], arr[i]\n",
    "\n",
    "# The QuickSort function implementation\n",
    "def quickSort(arr, low, high):\n",
    "    if low < high:\n",
    "        \n",
    "        # pi is the partition return index of pivot\n",
    "        pi = partition(arr, low, high)\n",
    "        \n",
    "        # Recursion calls for smaller elements\n",
    "        # and greater or equals elements\n",
    "        quickSort(arr, low, pi - 1)\n",
    "        quickSort(arr, pi + 1, high)\n",
    "\n",
    "# Main driver code\n",
    "if __name__ == \"__main__\":\n",
    "    arr = [10, 7, 8, 9, 1, 5]\n",
    "    n = len(arr)\n",
    "\n",
    "    quickSort(arr, 0, n - 1)\n",
    "    \n",
    "    for val in arr:\n",
    "        print(val, end=\" \") \n"
   ]
  },
  {
   "cell_type": "markdown",
   "id": "61885aec-f9ed-4b24-9667-363fd107e67a",
   "metadata": {},
   "source": [
    "# Heap sort algorithm\n",
    "- [x] Efficient on large datasets. --Time complexity: O(n log n).\n",
    "- [x] Slower than Quick sort.\n",
    "- [x] May rearrange relative order."
   ]
  },
  {
   "cell_type": "code",
   "execution_count": 10,
   "id": "b2dc7659-8a7c-4441-8a7b-727e63bb7366",
   "metadata": {},
   "outputs": [
    {
     "name": "stdout",
     "output_type": "stream",
     "text": [
      "Sorted array is \n",
      "2 3 4 5 8 9 10 \n"
     ]
    }
   ],
   "source": [
    "# To heapify a subtree rooted with node i\n",
    "# which is an index in arr[].\n",
    "def heapify(arr, n, i):\n",
    "    \n",
    "     # Initialize largest as root\n",
    "    largest = i \n",
    "    \n",
    "    #  left index = 2*i + 1\n",
    "    l = 2 * i + 1 \n",
    "    \n",
    "    # right index = 2*i + 2\n",
    "    r = 2 * i + 2  \n",
    "\n",
    "    # If left child is larger than root\n",
    "    if l < n and arr[l] > arr[largest]:\n",
    "        largest = l\n",
    "\n",
    "    # If right child is larger than largest so far\n",
    "    if r < n and arr[r] > arr[largest]:\n",
    "        largest = r\n",
    "\n",
    "    # If largest is not root\n",
    "    if largest != i:\n",
    "        arr[i], arr[largest] = arr[largest], arr[i]  # Swap\n",
    "\n",
    "        # Recursively heapify the affected sub-tree\n",
    "        heapify(arr, n, largest)\n",
    "\n",
    "# Main function to do heap sort\n",
    "def heapSort(arr):\n",
    "    \n",
    "    n = len(arr) \n",
    "\n",
    "    # Build heap (rearrange array)\n",
    "    for i in range(n // 2 - 1, -1, -1):\n",
    "        heapify(arr, n, i)\n",
    "\n",
    "    # One by one extract an element from heap\n",
    "    for i in range(n - 1, 0, -1):\n",
    "      \n",
    "        # Move root to end\n",
    "        arr[0], arr[i] = arr[i], arr[0] \n",
    "\n",
    "        # Call max heapify on the reduced heap\n",
    "        heapify(arr, i, 0)\n",
    "\n",
    "def printArray(arr):\n",
    "    for i in arr:\n",
    "        print(i, end=\" \")\n",
    "    print()\n",
    "\n",
    "# Driver's code\n",
    "arr = [9, 4, 3, 8, 10, 2, 5] \n",
    "heapSort(arr)\n",
    "print(\"Sorted array is \")\n",
    "printArray(arr)\n"
   ]
  },
  {
   "cell_type": "markdown",
   "id": "029e4731-d25b-4ef1-95f0-6ef2c03a323d",
   "metadata": {},
   "source": [
    "# Counting sort algorithm\n",
    "- [x] Faster than merge sort and quick sort. --Time complexity: O(N + M), where N and M are the size of inputArray[] and countArray[] respectively.\n",
    "- [x] Commonly used in cases where we have limited range items. For example, sort students by grades, sort a events by time, days, months, years.\n",
    "- [x] Does not work on deciaml values."
   ]
  },
  {
   "cell_type": "code",
   "execution_count": 11,
   "id": "14b26c28-90c5-48e0-92bb-7853c7d065ff",
   "metadata": {},
   "outputs": [
    {
     "name": "stdout",
     "output_type": "stream",
     "text": [
      "1 3 3 4 5 5 9 12 "
     ]
    }
   ],
   "source": [
    "def count_sort(input_array):\n",
    "    # Finding the maximum element of input_array.\n",
    "    M = max(input_array)\n",
    "\n",
    "    # Initializing count_array with 0\n",
    "    count_array = [0] * (M + 1)\n",
    "\n",
    "    # Mapping each element of input_array as an index of count_array\n",
    "    for num in input_array:\n",
    "        count_array[num] += 1\n",
    "\n",
    "    # Calculating prefix sum at every index of count_array\n",
    "    for i in range(1, M + 1):\n",
    "        count_array[i] += count_array[i - 1]\n",
    "\n",
    "    # Creating output_array from count_array\n",
    "    output_array = [0] * len(input_array)\n",
    "\n",
    "    for i in range(len(input_array) - 1, -1, -1):\n",
    "        output_array[count_array[input_array[i]] - 1] = input_array[i]\n",
    "        count_array[input_array[i]] -= 1\n",
    "\n",
    "    return output_array\n",
    "\n",
    "# Driver code\n",
    "if __name__ == \"__main__\":\n",
    "    # Input array\n",
    "    input_array = [4, 3, 12, 1, 5, 5, 3, 9]\n",
    "\n",
    "    # Output array\n",
    "    output_array = count_sort(input_array)\n",
    "\n",
    "    for num in output_array:\n",
    "        print(num, end=\" \")\n"
   ]
  },
  {
   "cell_type": "markdown",
   "id": "c86cc2da-bfa8-4615-abad-3f0775ddffee",
   "metadata": {},
   "source": [
    "# Bucket sort algorithm\n",
    "- Time complexity best case: O(n + k), assuming that k is linearly proportional to n. Worst case: O(n$^2$).\n",
    "[geeksforgeeks - bucket sort](https://www.geeksforgeeks.org/bucket-sort-2/)"
   ]
  },
  {
   "cell_type": "code",
   "execution_count": 12,
   "id": "5cec4771-b447-49d2-8502-1377966ec6d0",
   "metadata": {},
   "outputs": [
    {
     "name": "stdout",
     "output_type": "stream",
     "text": [
      "Sorted array is:\n",
      "0.1234 0.3434 0.565 0.656 0.665 0.897\n"
     ]
    }
   ],
   "source": [
    "def insertion_sort(bucket):\n",
    "    for i in range(1, len(bucket)):\n",
    "        key = bucket[i]\n",
    "        j = i - 1\n",
    "        while j >= 0 and bucket[j] > key:\n",
    "            bucket[j + 1] = bucket[j]\n",
    "            j -= 1\n",
    "        bucket[j + 1] = key\n",
    "\n",
    "def bucket_sort(arr):\n",
    "    n = len(arr)\n",
    "    buckets = [[] for _ in range(n)]\n",
    "\n",
    "    # Put array elements in different buckets\n",
    "    for num in arr:\n",
    "        bi = int(n * num)\n",
    "        buckets[bi].append(num)\n",
    "\n",
    "    # Sort individual buckets using insertion sort\n",
    "    for bucket in buckets:\n",
    "        insertion_sort(bucket)\n",
    "\n",
    "    # Concatenate all buckets into arr[]\n",
    "    index = 0\n",
    "    for bucket in buckets:\n",
    "        for num in bucket:\n",
    "            arr[index] = num\n",
    "            index += 1\n",
    "\n",
    "arr = [0.897, 0.565, 0.656, 0.1234, 0.665, 0.3434]\n",
    "bucket_sort(arr)\n",
    "print(\"Sorted array is:\")\n",
    "print(\" \".join(map(str, arr)))\n"
   ]
  },
  {
   "cell_type": "markdown",
   "id": "909bac7b-f5ff-48c2-88bb-7a2d81570bc6",
   "metadata": {},
   "source": [
    "# Comparison of Complexity Analysis of Sorting Algorithms:\n",
    "| Name                    | Link                                                        | Best Case     | Average Case   | Worst Case     | Memory | Stable | Method Used           |\r\n",
    "|-------------------------|-------------------------------------------------------------|---------------|----------------|----------------|--------|--------|-----------------------|\r\n",
    "| Quick Sort              | [Quick Sort](http://www.geeksforgeeks.org/quick-sort/)      | $\\mathcal{O}(n \\log n)$   | $\\mathcal{O}(n \\log n)$      | $\\mathcal{O}(n^2)$        | $\\mathcal{O}(\\log n)$   | No     | Partitioning          |\r\n",
    "| Merge Sort              | [Merge Sort](http://www.geeksforgeeks.org/merge-sort/)      | $\\mathcal{O}(n \\log n)$   | $\\mathcal{O}(n \\log n)$      | $\\mathcal{O}(n \\log n)$  | $\\mathcal{O}(n)$        | Yes    | Merging               |\r\n",
    "| Heap Sort               | [Heap Sort](https://www.geeksforgeeks.org/heap-sort/)       | $\\mathcal{O}(n \\log n)$   | $\\mathcal{O}(n \\log n)$      | $\\mathcal{O}(n \\log n)$  | $\\mathcal{O}(1)$        | No     | Selection             |\r\n",
    "| Insertion Sort          | [Insertion Sort](http://www.geeksforgeeks.org/insertion-sort/) | $\\mathcal{O}(n)$     | $\\mathcal{O}(n^2)$      | $\\mathcal{O}(n^2)$        | $\\mathcal{O}(1)$        | Yes    | Insertion             |\r\n",
    "| Tim Sort                | [Tim Sort](https://www.geeksforgeeks.org/timsort/)          | $\\mathcal{O}(n)$     | $\\mathcal{O}(n \\log n)$  | $\\mathcal{O}(n \\log n)$  | $\\mathcal{O}(n)$        | Yes    | Insertion & Merging   |\r\n",
    "| Selection Sort          | [Selection Sort](http://www.geeksforgeeks.org/selection-sort/) | $\\mathcal{O}(n^2)$   | $\\mathcal{O}(n^2)$      | $\\mathcal{O}(n^2)$        | $\\mathcal{O}(1)$        | No     | Selection             |\r\n",
    "| Shell Sort              | [Shell Sort](https://www.geeksforgeeks.org/shellsort/)      | $\\mathcal{O}(n \\log n)$   | $\\mathcal{O}(n^{4/3})$     | $\\mathcal{O}(n^{3/2})$    | $\\mathcal{O}(1)$        | No     | Insertion             |\r\n",
    "| Bubble Sort             | [Bubble Sort](http://www.geeksforgeeks.org/bubble-sort/)    | $\\mathcal{O}(n)$     | $\\mathcal{O}(n^2)$      | $\\mathcal{O}(n^2)$        | $\\mathcal{O}(1)$        | Yes    | Exchanging            |\r\n",
    "| Tree Sort               | [Tree Sort](https://www.geeksforgeeks.org/tree-sort/)       | $\\mathcal{O}(n \\log n)$   | $\\mathcal{O}(n \\log n)$  | $\\mathcal{O}(n \\log n)$  | $\\mathcal{O}(n)$        | Yes    | Insertion             |\r\n",
    "| Cycle Sort              | [Cycle Sort](https://www.geeksforgeeks.org/cycle-sort/)     | $\\mathcal{O}(n^2)$   | $\\mathcal{O}(n^2)$      | $\\mathcal{O}(n^2)$        | $\\mathcal{O}(1)$        | No     | Selection             |\r\n",
    "| Strand Sort             | [Strand Sort](https://www.geeksforgeeks.org/strand-sort/)   | $\\mathcal{O}(n)$     | $\\mathcal{O}(n^2)$      | $\\mathcal{O}(n^2)$        | $\\mathcal{O}(n)$        | Yes    | Selection             |\r\n",
    "| Cocktail Shaker Sort    | [Cocktail Shaker Sort](https://www.geeksforgeeks.org/cocktail-sort/) | $\\mathcal{O}(n)$     | $\\mathcal{O}(n^2)$      | $\\mathcal{O}(n^2)$        | $\\mathcal{O}(1)$        | Yes    | Exchanging            |\r\n",
    "| Comb Sort               | [Comb Sort](https://www.geeksforgeeks.org/comb-sort/)       | $\\mathcal{O}(n \\log n)$   | $\\mathcal{O}(n^2)$      | $\\mathcal{O}(n^2)$        | $\\mathcal{O}(1)$        | No     | Exchanging            |\r\n",
    "| Gnome Sort              | [Gnome Sort](https://www.geeksforgeeks.org/gnome-sort-a-stupid-one/) | $\\mathcal{O}(n)$     | $\\mathcal{O}(n^2)$      | $\\mathcal{O}(n^2)$        | $\\mathcal{O}(1)$        | Yes    | Exchanging            |\r\n",
    "| Odd–even Sort           | [Odd–even Sort](https://www.geeksforgeeks.org/odd-even-sort-brick-sort/) | $\\mathcal{O}(n)$     | $\\mathcal{O}(n^2)$      | $\\mathcal{O}(n^2)$        | $\\mathcal{O}(1)$        | Yes    | Exchanging Indexes    |\r\n"
   ]
  },
  {
   "cell_type": "code",
   "execution_count": null,
   "id": "2c129f94-0404-44aa-b046-497399d4d976",
   "metadata": {},
   "outputs": [],
   "source": []
  }
 ],
 "metadata": {
  "kernelspec": {
   "display_name": "Python 3 (ipykernel)",
   "language": "python",
   "name": "python3"
  },
  "language_info": {
   "codemirror_mode": {
    "name": "ipython",
    "version": 3
   },
   "file_extension": ".py",
   "mimetype": "text/x-python",
   "name": "python",
   "nbconvert_exporter": "python",
   "pygments_lexer": "ipython3",
   "version": "3.12.0"
  }
 },
 "nbformat": 4,
 "nbformat_minor": 5
}
