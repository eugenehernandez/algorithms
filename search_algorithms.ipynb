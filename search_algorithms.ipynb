{
 "cells": [
  {
   "cell_type": "markdown",
   "id": "35af8c9e-7669-40a0-bdeb-23173d56a901",
   "metadata": {},
   "source": [
    "# Linear Search algorithm\n",
    "- [x] Good on small data sets. --Time complexity best case: O(1). Average or worse case: O(N).\n",
    "- [x] Unsorted lists.\r\n"
   ]
  },
  {
   "cell_type": "code",
   "execution_count": 9,
   "id": "a5e63d4d-e2a7-4609-a5f6-cd2e67aae8ea",
   "metadata": {},
   "outputs": [
    {
     "name": "stdout",
     "output_type": "stream",
     "text": [
      "Element is present at index 0\n"
     ]
    }
   ],
   "source": [
    "# linearly search x in arr[].\n",
    "def search(arr, N, x):\n",
    "\n",
    "    for i in range(0, N):\n",
    "        if (arr[i] == x):\n",
    "            return i\n",
    "    return -1\n",
    "\n",
    "\n",
    "# Driver Code\n",
    "if __name__ == \"__main__\":\n",
    "    arr = [2, 3, 4, 10, 40]\n",
    "    x = 2\n",
    "    N = len(arr)\n",
    "\n",
    "    # Function call\n",
    "    result = search(arr, N, x)\n",
    "    if(result == -1):\n",
    "        print(\"Element is not present in array\")\n",
    "    else:\n",
    "        print(\"Element is present at index\", result)\n"
   ]
  },
  {
   "cell_type": "markdown",
   "id": "8650a0a8-2fa8-4e04-9a3f-524842bd0832",
   "metadata": {},
   "source": [
    "# Binary Search algorithm\n",
    "- [x] Faster than linear search and better for large data sets. --Time complexity best case: O(1). Average or worst case: O(log N).\n",
    "- [x] Elements must be able to be ordered.\n",
    "- [x] Foundational algorithm for more advance ones like neural network.\n"
   ]
  },
  {
   "cell_type": "code",
   "execution_count": 11,
   "id": "61f174ae-5af7-4dec-90c4-0b9aebf2b719",
   "metadata": {},
   "outputs": [
    {
     "name": "stdout",
     "output_type": "stream",
     "text": [
      "Element is present at index 3\n"
     ]
    }
   ],
   "source": [
    "# Iterative binary search.\n",
    "\n",
    "# It returns location of x in given array arr\n",
    "def binarySearch(arr, low, high, x):\n",
    "\n",
    "    while low <= high:\n",
    "\n",
    "        mid = low + (high - low) // 2\n",
    "\n",
    "        # Check if x is present at mid\n",
    "        if arr[mid] == x:\n",
    "            return mid\n",
    "\n",
    "        # If x is greater, ignore left half\n",
    "        elif arr[mid] < x:\n",
    "            low = mid + 1\n",
    "\n",
    "        # If x is smaller, ignore right half\n",
    "        else:\n",
    "            high = mid - 1\n",
    "\n",
    "    # If we reach here, then the element\n",
    "    # was not present\n",
    "    return -1\n",
    "\n",
    "\n",
    "# Driver Code\n",
    "if __name__ == '__main__':\n",
    "    arr = [2, 3, 4, 10, 40]\n",
    "    x = 10\n",
    "\n",
    "    # Function call\n",
    "    result = binarySearch(arr, 0, len(arr)-1, x)\n",
    "    if result != -1:\n",
    "        print(\"Element is present at index\", result)\n",
    "    else:\n",
    "        print(\"Element is not present in array\")\n"
   ]
  },
  {
   "cell_type": "code",
   "execution_count": 10,
   "id": "1ab7b335-fea5-49af-8d29-8d29f12f6faf",
   "metadata": {},
   "outputs": [
    {
     "name": "stdout",
     "output_type": "stream",
     "text": [
      "Element is present at index 3\n"
     ]
    }
   ],
   "source": [
    "# Recursive binary search.\n",
    "\n",
    "# Returns index of x in arr if present, else -1\n",
    "def binarySearch(arr, low, high, x):\n",
    "\n",
    "    # Check base case\n",
    "    if high >= low:\n",
    "\n",
    "        mid = low + (high - low) // 2\n",
    "\n",
    "        # If element is present at the middle itself\n",
    "        if arr[mid] == x:\n",
    "            return mid\n",
    "\n",
    "        # If element is smaller than mid, then it\n",
    "        # can only be present in left subarray\n",
    "        elif arr[mid] > x:\n",
    "            return binarySearch(arr, low, mid-1, x)\n",
    "\n",
    "        # Else the element can only be present\n",
    "        # in right subarray\n",
    "        else:\n",
    "            return binarySearch(arr, mid + 1, high, x)\n",
    "\n",
    "    # Element is not present in the array\n",
    "    else:\n",
    "        return -1\n",
    "\n",
    "\n",
    "# Driver Code\n",
    "if __name__ == '__main__':\n",
    "    arr = [2, 3, 4, 10, 40]\n",
    "    x = 10\n",
    "    \n",
    "    # Function call\n",
    "    result = binarySearch(arr, 0, len(arr)-1, x)\n",
    "    \n",
    "    if result != -1:\n",
    "        print(\"Element is present at index\", result)\n",
    "    else:\n",
    "        print(\"Element is not present in array\")\n"
   ]
  },
  {
   "cell_type": "code",
   "execution_count": null,
   "id": "135533ac-87ee-46b8-b661-d2884f4c75f1",
   "metadata": {},
   "outputs": [],
   "source": []
  }
 ],
 "metadata": {
  "kernelspec": {
   "display_name": "Python 3 (ipykernel)",
   "language": "python",
   "name": "python3"
  },
  "language_info": {
   "codemirror_mode": {
    "name": "ipython",
    "version": 3
   },
   "file_extension": ".py",
   "mimetype": "text/x-python",
   "name": "python",
   "nbconvert_exporter": "python",
   "pygments_lexer": "ipython3",
   "version": "3.12.0"
  }
 },
 "nbformat": 4,
 "nbformat_minor": 5
}
